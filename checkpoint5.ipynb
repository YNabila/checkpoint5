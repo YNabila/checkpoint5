{
 "cells": [
  {
   "cell_type": "code",
   "execution_count": 19,
   "id": "08eacc69",
   "metadata": {},
   "outputs": [],
   "source": [
    " "
   ]
  },
  {
   "cell_type": "code",
   "execution_count": null,
   "id": "77e34e21",
   "metadata": {},
   "outputs": [],
   "source": [
    " "
   ]
  },
  {
   "cell_type": "code",
   "execution_count": null,
   "id": "201b3b91",
   "metadata": {},
   "outputs": [],
   "source": []
  },
  {
   "cell_type": "code",
   "execution_count": 7,
   "id": "5e933f17",
   "metadata": {},
   "outputs": [],
   "source": [
    "class point3D:\n",
    "    def __init__(self,x,y,z):\n",
    "        self.x=x\n",
    "        self.y=y\n",
    "        self.z=z\n",
    "    def afficher(self):\n",
    "        print(\"x,y,z: \",self.x,self.y,self.z)"
   ]
  },
  {
   "cell_type": "code",
   "execution_count": 8,
   "id": "cc36ccd6",
   "metadata": {},
   "outputs": [],
   "source": [
    "class rectangle:\n",
    "    def __init__(self,n,l,w):\n",
    "        self.name=n\n",
    "        self.length=l\n",
    "        self.width=w\n",
    "    def area(self):\n",
    "        return print(\"area of rectangle {} is {} \".format(self.name,self.length*self.width))\n",
    "    def perimeter(self):\n",
    "        return print(\"perimeter of rectangle {} is {} \".format(self.name,(self.length+self.width)*2))"
   ]
  },
  {
   "cell_type": "code",
   "execution_count": 37,
   "id": "42d66940",
   "metadata": {},
   "outputs": [],
   "source": [
    "class circle:\n",
    "    def __init__(self,n,r,Cx,Cy):\n",
    "        self.name=n\n",
    "        self.radius=r\n",
    "        self.centrex=Cx\n",
    "        self.centrey=Cy\n",
    "    def area(self):\n",
    "        return print(\"area of circle {} is {} \".format(self.name,3.14*(self.radius**2)))\n",
    "    def perimeter(self):\n",
    "        return print(\"area of circle {} is {} \".format(self.name,2*(self.radius*3.14)))\n",
    "    def inside(self,x,y):\n",
    "        self.pointx= x\n",
    "        self.pointy= y\n",
    "        return (x-self.centrex)**2+(y-self.centrey)**2==self.radius**2             "
   ]
  },
  {
   "cell_type": "code",
   "execution_count": 31,
   "id": "d83b7a9b",
   "metadata": {},
   "outputs": [],
   "source": [
    "class account:\n",
    "    def __init__(self,num,b):\n",
    "        self.numacc=num\n",
    "        self.balance=b\n",
    "    def deposit(self,d):\n",
    "        self.dep=d\n",
    "        self.balance=self.balance+d\n",
    "        return print(\"your new balance is: \",self.balance)\n",
    "    def withdraw(self,w):\n",
    "        self.withd=w\n",
    "        if w<=self.balance:\n",
    "            self.balance=self.balance-w\n",
    "            print(\"your new balance is: \",self.balance)\n",
    "        else:\n",
    "            print(\"impossible\")"
   ]
  },
  {
   "cell_type": "code",
   "execution_count": 32,
   "id": "6f9c0e6b",
   "metadata": {},
   "outputs": [],
   "source": [
    "acc1=account('123456',5000000)"
   ]
  },
  {
   "cell_type": "code",
   "execution_count": 33,
   "id": "19c29a8f",
   "metadata": {},
   "outputs": [
    {
     "name": "stdout",
     "output_type": "stream",
     "text": [
      "your new balance is:  5000100\n"
     ]
    }
   ],
   "source": [
    "acc1.deposit(100)"
   ]
  },
  {
   "cell_type": "code",
   "execution_count": 38,
   "id": "72bdf85a",
   "metadata": {},
   "outputs": [
    {
     "name": "stdout",
     "output_type": "stream",
     "text": [
      "impossible\n"
     ]
    }
   ],
   "source": [
    "acc1.withdraw(50000000000000)"
   ]
  },
  {
   "cell_type": "code",
   "execution_count": null,
   "id": "1e17a812",
   "metadata": {},
   "outputs": [],
   "source": []
  }
 ],
 "metadata": {
  "kernelspec": {
   "display_name": "Python 3 (ipykernel)",
   "language": "python",
   "name": "python3"
  },
  "language_info": {
   "codemirror_mode": {
    "name": "ipython",
    "version": 3
   },
   "file_extension": ".py",
   "mimetype": "text/x-python",
   "name": "python",
   "nbconvert_exporter": "python",
   "pygments_lexer": "ipython3",
   "version": "3.9.12"
  }
 },
 "nbformat": 4,
 "nbformat_minor": 5
}
